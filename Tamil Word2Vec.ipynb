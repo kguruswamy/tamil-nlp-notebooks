{
 "cells": [
  {
   "cell_type": "code",
   "execution_count": 1,
   "metadata": {},
   "outputs": [
    {
     "name": "stdout",
     "output_type": "stream",
     "text": [
      "Checking whether there is an H2O instance running at http://localhost:54321 ..... not found.\n",
      "Attempting to start a local H2O server...\n",
      "  Java Version: java version \"10.0.2\" 2018-07-17; Java(TM) SE Runtime Environment 18.3 (build 10.0.2+13); Java HotSpot(TM) 64-Bit Server VM 18.3 (build 10.0.2+13, mixed mode)\n",
      "  Starting server from /Users/karthik/venv/lib/python3.7/site-packages/h2o/backend/bin/h2o.jar\n",
      "  Ice root: /var/folders/9b/rjdvjn8s3rgcbsvrxmt9rzt00000gp/T/tmpe_cl95aq\n",
      "  JVM stdout: /var/folders/9b/rjdvjn8s3rgcbsvrxmt9rzt00000gp/T/tmpe_cl95aq/h2o_karthik_started_from_python.out\n",
      "  JVM stderr: /var/folders/9b/rjdvjn8s3rgcbsvrxmt9rzt00000gp/T/tmpe_cl95aq/h2o_karthik_started_from_python.err\n",
      "  Server is running at http://127.0.0.1:54321\n",
      "Connecting to H2O server at http://127.0.0.1:54321 ... successful.\n"
     ]
    },
    {
     "data": {
      "text/html": [
       "<div style=\"overflow:auto\"><table style=\"width:50%\"><tr><td>H2O_cluster_uptime:</td>\n",
       "<td>02 secs</td></tr>\n",
       "<tr><td>H2O_cluster_timezone:</td>\n",
       "<td>America/Los_Angeles</td></tr>\n",
       "<tr><td>H2O_data_parsing_timezone:</td>\n",
       "<td>UTC</td></tr>\n",
       "<tr><td>H2O_cluster_version:</td>\n",
       "<td>3.34.0.7</td></tr>\n",
       "<tr><td>H2O_cluster_version_age:</td>\n",
       "<td>2 months and 4 days </td></tr>\n",
       "<tr><td>H2O_cluster_name:</td>\n",
       "<td>H2O_from_python_karthik_cvgod3</td></tr>\n",
       "<tr><td>H2O_cluster_total_nodes:</td>\n",
       "<td>1</td></tr>\n",
       "<tr><td>H2O_cluster_free_memory:</td>\n",
       "<td>4 Gb</td></tr>\n",
       "<tr><td>H2O_cluster_total_cores:</td>\n",
       "<td>16</td></tr>\n",
       "<tr><td>H2O_cluster_allowed_cores:</td>\n",
       "<td>16</td></tr>\n",
       "<tr><td>H2O_cluster_status:</td>\n",
       "<td>locked, healthy</td></tr>\n",
       "<tr><td>H2O_connection_url:</td>\n",
       "<td>http://127.0.0.1:54321</td></tr>\n",
       "<tr><td>H2O_connection_proxy:</td>\n",
       "<td>{\"http\": null, \"https\": null}</td></tr>\n",
       "<tr><td>H2O_internal_security:</td>\n",
       "<td>False</td></tr>\n",
       "<tr><td>H2O_API_Extensions:</td>\n",
       "<td>Amazon S3, XGBoost, Algos, AutoML, Core V3, TargetEncoder, Core V4</td></tr>\n",
       "<tr><td>Python_version:</td>\n",
       "<td>3.7.2 final</td></tr></table></div>"
      ],
      "text/plain": [
       "--------------------------  ------------------------------------------------------------------\n",
       "H2O_cluster_uptime:         02 secs\n",
       "H2O_cluster_timezone:       America/Los_Angeles\n",
       "H2O_data_parsing_timezone:  UTC\n",
       "H2O_cluster_version:        3.34.0.7\n",
       "H2O_cluster_version_age:    2 months and 4 days\n",
       "H2O_cluster_name:           H2O_from_python_karthik_cvgod3\n",
       "H2O_cluster_total_nodes:    1\n",
       "H2O_cluster_free_memory:    4 Gb\n",
       "H2O_cluster_total_cores:    16\n",
       "H2O_cluster_allowed_cores:  16\n",
       "H2O_cluster_status:         locked, healthy\n",
       "H2O_connection_url:         http://127.0.0.1:54321\n",
       "H2O_connection_proxy:       {\"http\": null, \"https\": null}\n",
       "H2O_internal_security:      False\n",
       "H2O_API_Extensions:         Amazon S3, XGBoost, Algos, AutoML, Core V3, TargetEncoder, Core V4\n",
       "Python_version:             3.7.2 final\n",
       "--------------------------  ------------------------------------------------------------------"
      ]
     },
     "metadata": {},
     "output_type": "display_data"
    }
   ],
   "source": [
    "import h2o\n",
    "h2o.init()\n",
    "from h2o.estimators.word2vec import H2OWord2vecEstimator"
   ]
  },
  {
   "cell_type": "code",
   "execution_count": 2,
   "metadata": {},
   "outputs": [
    {
     "name": "stdout",
     "output_type": "stream",
     "text": [
      "Parse progress: |████████████████████████████████████████████████████████████████| (done) 100%\n"
     ]
    }
   ],
   "source": [
    "news = h2o.upload_file(\"news.csv\", destination_frame = \"tamiltext\",\n",
    "                             col_names = [\"news_in_tamil\"], col_types = [\"string\"], header = 1, sep=\"\\n\")"
   ]
  },
  {
   "cell_type": "code",
   "execution_count": 4,
   "metadata": {},
   "outputs": [
    {
     "data": {
      "text/html": [
       "<table>\n",
       "<thead>\n",
       "<tr><th>news_in_tamil                                             </th></tr>\n",
       "</thead>\n",
       "<tbody>\n",
       "<tr><td>﻿ஈராக்கில் 43 ஆண்டுகள் கழித்து அழகிப்போட்டி                      </td></tr>\n",
       "<tr><td>இந்திய அளவில் ட்ரெண்ட் ஆன அஜித்தின் ‘தள்லே தில்லாலே’               </td></tr>\n",
       "<tr><td>சொந்த செலவில் வாகன காப்பீடு எடுத்து கொடுத்த காவல் ஆய்வாளர்         </td></tr>\n",
       "<tr><td>பிறந்தநாளில் பட்ஜெட் தாக்கல் செய்தவர்                             </td></tr>\n",
       "<tr><td>“நானா? பாஜகவில் இணைந்துவிட்டேனா” - வரலட்சுமி விளக்கம்           </td></tr>\n",
       "<tr><td>இஸ்லாமிய மதபோதகர் ஜாகிர் நாயக் மீது 58 பக்க குற்றப்பத்திரிக்கை தாக்கல்</td></tr>\n",
       "<tr><td>மேயாதமான் இசையமைப்பாளர்களுக்கு மிகப்பெரிய வாழ்த்து: தனுஷ் ட்வீட்     </td></tr>\n",
       "<tr><td>அடுத்த 50 ஆண்டுக்கு பாஜக ஆட்சி - அமித் ஷா                      </td></tr>\n",
       "<tr><td>தொடரும் பஸ் கட்டண உயர்வு: தினசரி, மாதாந்திர பாஸ்-ம் காலி!        </td></tr>\n",
       "<tr><td>செம்மரம் வெட்டச் சென்றதாக திருப்பதியில் தமிழர்கள் கைது             </td></tr>\n",
       "</tbody>\n",
       "</table>"
      ]
     },
     "metadata": {},
     "output_type": "display_data"
    },
    {
     "data": {
      "text/plain": []
     },
     "execution_count": 4,
     "metadata": {},
     "output_type": "execute_result"
    }
   ],
   "source": [
    "news"
   ]
  },
  {
   "cell_type": "code",
   "execution_count": 6,
   "metadata": {},
   "outputs": [],
   "source": [
    "# Optional Stopwords. Currently its empty\n",
    "STOP_WORDS = []"
   ]
  },
  {
   "cell_type": "code",
   "execution_count": 7,
   "metadata": {},
   "outputs": [],
   "source": [
    "def tokenize(sentences, stop_word = STOP_WORDS):\n",
    "    tokenized = sentences.tokenize(\" \")\n",
    "    print(tokenized)\n",
    "    tokenized_lower = tokenized.tolower() # Do you need it ? Not sure\n",
    "    tokenized_filtered = tokenized_lower[(tokenized_lower.nchar() >= 2) | (tokenized_lower.isna()),:]\n",
    "    tokenized_words = tokenized_filtered[tokenized_filtered.grep(\"[0-9]\",invert=True,output_logical=True),:]\n",
    "    #tokenized_words = tokenized_words[(tokenized_words.isna()) | (~ tokenized_words.isin(STOP_WORDS)),:]\n",
    "    return tokenized_words"
   ]
  },
  {
   "cell_type": "code",
   "execution_count": 8,
   "metadata": {},
   "outputs": [
    {
     "name": "stdout",
     "output_type": "stream",
     "text": [
      "Break tamil_text into sequence of words\n"
     ]
    },
    {
     "data": {
      "text/html": [
       "<table>\n",
       "<thead>\n",
       "<tr><th>C1        </th></tr>\n",
       "</thead>\n",
       "<tbody>\n",
       "<tr><td>﻿ஈராக்கில்  </td></tr>\n",
       "<tr><td>43        </td></tr>\n",
       "<tr><td>ஆண்டுகள்    </td></tr>\n",
       "<tr><td>கழித்து    </td></tr>\n",
       "<tr><td>அழகிப்போட்டி</td></tr>\n",
       "<tr><td>          </td></tr>\n",
       "<tr><td>இந்திய     </td></tr>\n",
       "<tr><td>அளவில்     </td></tr>\n",
       "<tr><td>ட்ரெண்ட்     </td></tr>\n",
       "<tr><td>ஆன        </td></tr>\n",
       "</tbody>\n",
       "</table>"
      ]
     },
     "metadata": {},
     "output_type": "display_data"
    },
    {
     "name": "stdout",
     "output_type": "stream",
     "text": [
      "\n"
     ]
    }
   ],
   "source": [
    "print(\"Break tamil_text into sequence of words\")\n",
    "words = tokenize(news[\"news_in_tamil\"])"
   ]
  },
  {
   "cell_type": "code",
   "execution_count": 9,
   "metadata": {},
   "outputs": [
    {
     "name": "stdout",
     "output_type": "stream",
     "text": [
      "word2vec Model Build progress: |█████████████████████████████████████████████████| (done) 100%\n",
      "Model Details\n",
      "=============\n",
      "H2OWord2vecEstimator :  Word2Vec\n",
      "Model Key:  Word2Vec_model_python_1645909001674_1\n",
      "\n",
      "No model summary for this model\n"
     ]
    },
    {
     "data": {
      "text/plain": []
     },
     "execution_count": 9,
     "metadata": {},
     "output_type": "execute_result"
    }
   ],
   "source": [
    "# Build Word2Vec Model\n",
    "\n",
    "w2v_model = H2OWord2vecEstimator(sent_sample_rate = 0.0, epochs = 10)\n",
    "w2v_model.train(training_frame=words)"
   ]
  },
  {
   "cell_type": "code",
   "execution_count": 10,
   "metadata": {},
   "outputs": [],
   "source": [
    "# Check Synonym for a term\n",
    "dict = w2v_model.find_synonyms(\"இந்திய\", count = 5)"
   ]
  },
  {
   "cell_type": "code",
   "execution_count": 11,
   "metadata": {},
   "outputs": [
    {
     "name": "stdout",
     "output_type": "stream",
     "text": [
      "இங்கிலாந்து 0.7148316502571106\n",
      "வெற்றி! 0.7089929580688477\n",
      "சதம்: 0.6825829148292542\n",
      "ஆஸி. 0.6724561452865601\n",
      "போட்டி: 0.6568611264228821\n"
     ]
    }
   ],
   "source": [
    "for key, value in dict.items():\n",
    "    print(key, value)"
   ]
  },
  {
   "cell_type": "code",
   "execution_count": 60,
   "metadata": {},
   "outputs": [],
   "source": [
    "word_vecs = w2v_model.transform(words, aggregate_method = \"AV\")"
   ]
  },
  {
   "cell_type": "code",
   "execution_count": 61,
   "metadata": {},
   "outputs": [
    {
     "data": {
      "text/html": [
       "<table>\n",
       "<thead>\n",
       "<tr><th style=\"text-align: right;\">        C1</th><th style=\"text-align: right;\">         C2</th><th style=\"text-align: right;\">         C3</th><th style=\"text-align: right;\">         C4</th><th style=\"text-align: right;\">        C5</th><th style=\"text-align: right;\">        C6</th><th style=\"text-align: right;\">          C7</th><th style=\"text-align: right;\">        C8</th><th style=\"text-align: right;\">        C9</th><th style=\"text-align: right;\">        C10</th><th style=\"text-align: right;\">        C11</th><th style=\"text-align: right;\">       C12</th><th style=\"text-align: right;\">       C13</th><th style=\"text-align: right;\">        C14</th><th style=\"text-align: right;\">        C15</th><th style=\"text-align: right;\">        C16</th><th style=\"text-align: right;\">         C17</th><th style=\"text-align: right;\">        C18</th><th style=\"text-align: right;\">        C19</th><th style=\"text-align: right;\">         C20</th><th style=\"text-align: right;\">        C21</th><th style=\"text-align: right;\">         C22</th><th style=\"text-align: right;\">        C23</th><th style=\"text-align: right;\">        C24</th><th style=\"text-align: right;\">        C25</th><th style=\"text-align: right;\">        C26</th><th style=\"text-align: right;\">        C27</th><th style=\"text-align: right;\">        C28</th><th style=\"text-align: right;\">        C29</th><th style=\"text-align: right;\">       C30</th><th style=\"text-align: right;\">        C31</th><th style=\"text-align: right;\">       C32</th><th style=\"text-align: right;\">        C33</th><th style=\"text-align: right;\">        C34</th><th style=\"text-align: right;\">        C35</th><th style=\"text-align: right;\">         C36</th><th style=\"text-align: right;\">       C37</th><th style=\"text-align: right;\">       C38</th><th style=\"text-align: right;\">        C39</th><th style=\"text-align: right;\">        C40</th><th style=\"text-align: right;\">        C41</th><th style=\"text-align: right;\">       C42</th><th style=\"text-align: right;\">        C43</th><th style=\"text-align: right;\">        C44</th><th style=\"text-align: right;\">        C45</th><th style=\"text-align: right;\">        C46</th><th style=\"text-align: right;\">        C47</th><th style=\"text-align: right;\">       C48</th><th style=\"text-align: right;\">        C49</th><th style=\"text-align: right;\">        C50</th><th style=\"text-align: right;\">       C51</th><th style=\"text-align: right;\">       C52</th><th style=\"text-align: right;\">       C53</th><th style=\"text-align: right;\">        C54</th><th style=\"text-align: right;\">         C55</th><th style=\"text-align: right;\">        C56</th><th style=\"text-align: right;\">        C57</th><th style=\"text-align: right;\">        C58</th><th style=\"text-align: right;\">        C59</th><th style=\"text-align: right;\">        C60</th><th style=\"text-align: right;\">        C61</th><th style=\"text-align: right;\">         C62</th><th style=\"text-align: right;\">       C63</th><th style=\"text-align: right;\">        C64</th><th style=\"text-align: right;\">        C65</th><th style=\"text-align: right;\">        C66</th><th style=\"text-align: right;\">        C67</th><th style=\"text-align: right;\">        C68</th><th style=\"text-align: right;\">          C69</th><th style=\"text-align: right;\">       C70</th><th style=\"text-align: right;\">        C71</th><th style=\"text-align: right;\">        C72</th><th style=\"text-align: right;\">       C73</th><th style=\"text-align: right;\">        C74</th><th style=\"text-align: right;\">       C75</th><th style=\"text-align: right;\">          C76</th><th style=\"text-align: right;\">        C77</th><th style=\"text-align: right;\">       C78</th><th style=\"text-align: right;\">        C79</th><th style=\"text-align: right;\">        C80</th><th style=\"text-align: right;\">        C81</th><th style=\"text-align: right;\">        C82</th><th style=\"text-align: right;\">        C83</th><th style=\"text-align: right;\">        C84</th><th style=\"text-align: right;\">        C85</th><th style=\"text-align: right;\">       C86</th><th style=\"text-align: right;\">        C87</th><th style=\"text-align: right;\">        C88</th><th style=\"text-align: right;\">       C89</th><th style=\"text-align: right;\">        C90</th><th style=\"text-align: right;\">        C91</th><th style=\"text-align: right;\">        C92</th><th style=\"text-align: right;\">        C93</th><th style=\"text-align: right;\">        C94</th><th style=\"text-align: right;\">        C95</th><th style=\"text-align: right;\">        C96</th><th style=\"text-align: right;\">        C97</th><th style=\"text-align: right;\">        C98</th><th style=\"text-align: right;\">        C99</th><th style=\"text-align: right;\">       C100</th></tr>\n",
       "</thead>\n",
       "<tbody>\n",
       "<tr><td style=\"text-align: right;\">nan       </td><td style=\"text-align: right;\">nan        </td><td style=\"text-align: right;\">nan        </td><td style=\"text-align: right;\">nan        </td><td style=\"text-align: right;\">nan       </td><td style=\"text-align: right;\">nan       </td><td style=\"text-align: right;\">nan         </td><td style=\"text-align: right;\">nan       </td><td style=\"text-align: right;\">nan       </td><td style=\"text-align: right;\">nan        </td><td style=\"text-align: right;\">nan        </td><td style=\"text-align: right;\">nan       </td><td style=\"text-align: right;\">nan       </td><td style=\"text-align: right;\">nan        </td><td style=\"text-align: right;\">nan        </td><td style=\"text-align: right;\">nan        </td><td style=\"text-align: right;\">nan         </td><td style=\"text-align: right;\">nan        </td><td style=\"text-align: right;\">nan        </td><td style=\"text-align: right;\">nan         </td><td style=\"text-align: right;\">nan        </td><td style=\"text-align: right;\">nan         </td><td style=\"text-align: right;\">nan        </td><td style=\"text-align: right;\">nan        </td><td style=\"text-align: right;\">nan        </td><td style=\"text-align: right;\">nan        </td><td style=\"text-align: right;\">nan        </td><td style=\"text-align: right;\">nan        </td><td style=\"text-align: right;\">nan        </td><td style=\"text-align: right;\">nan       </td><td style=\"text-align: right;\">nan        </td><td style=\"text-align: right;\">nan       </td><td style=\"text-align: right;\">nan        </td><td style=\"text-align: right;\">nan        </td><td style=\"text-align: right;\">nan        </td><td style=\"text-align: right;\">nan         </td><td style=\"text-align: right;\">nan       </td><td style=\"text-align: right;\">nan       </td><td style=\"text-align: right;\">nan        </td><td style=\"text-align: right;\">nan        </td><td style=\"text-align: right;\">nan        </td><td style=\"text-align: right;\">nan       </td><td style=\"text-align: right;\">nan        </td><td style=\"text-align: right;\">nan        </td><td style=\"text-align: right;\">nan        </td><td style=\"text-align: right;\">nan        </td><td style=\"text-align: right;\">nan        </td><td style=\"text-align: right;\">nan       </td><td style=\"text-align: right;\">nan        </td><td style=\"text-align: right;\">nan        </td><td style=\"text-align: right;\">nan       </td><td style=\"text-align: right;\">nan       </td><td style=\"text-align: right;\">nan       </td><td style=\"text-align: right;\">nan        </td><td style=\"text-align: right;\">nan         </td><td style=\"text-align: right;\">nan        </td><td style=\"text-align: right;\">nan        </td><td style=\"text-align: right;\">nan        </td><td style=\"text-align: right;\">nan        </td><td style=\"text-align: right;\">nan        </td><td style=\"text-align: right;\">nan        </td><td style=\"text-align: right;\">nan         </td><td style=\"text-align: right;\">nan       </td><td style=\"text-align: right;\">nan        </td><td style=\"text-align: right;\">nan        </td><td style=\"text-align: right;\">nan        </td><td style=\"text-align: right;\">nan        </td><td style=\"text-align: right;\">nan        </td><td style=\"text-align: right;\">nan          </td><td style=\"text-align: right;\">nan       </td><td style=\"text-align: right;\">nan        </td><td style=\"text-align: right;\">nan        </td><td style=\"text-align: right;\">nan       </td><td style=\"text-align: right;\">nan        </td><td style=\"text-align: right;\">nan       </td><td style=\"text-align: right;\">nan          </td><td style=\"text-align: right;\">nan        </td><td style=\"text-align: right;\">nan       </td><td style=\"text-align: right;\">nan        </td><td style=\"text-align: right;\">nan        </td><td style=\"text-align: right;\">nan        </td><td style=\"text-align: right;\">nan        </td><td style=\"text-align: right;\">nan        </td><td style=\"text-align: right;\">nan        </td><td style=\"text-align: right;\">nan        </td><td style=\"text-align: right;\">nan       </td><td style=\"text-align: right;\">nan        </td><td style=\"text-align: right;\">nan        </td><td style=\"text-align: right;\">nan       </td><td style=\"text-align: right;\">nan        </td><td style=\"text-align: right;\">nan        </td><td style=\"text-align: right;\">nan        </td><td style=\"text-align: right;\">nan        </td><td style=\"text-align: right;\">nan        </td><td style=\"text-align: right;\">nan        </td><td style=\"text-align: right;\">nan        </td><td style=\"text-align: right;\">nan        </td><td style=\"text-align: right;\">nan        </td><td style=\"text-align: right;\">nan        </td><td style=\"text-align: right;\">nan        </td></tr>\n",
       "<tr><td style=\"text-align: right;\">nan       </td><td style=\"text-align: right;\">nan        </td><td style=\"text-align: right;\">nan        </td><td style=\"text-align: right;\">nan        </td><td style=\"text-align: right;\">nan       </td><td style=\"text-align: right;\">nan       </td><td style=\"text-align: right;\">nan         </td><td style=\"text-align: right;\">nan       </td><td style=\"text-align: right;\">nan       </td><td style=\"text-align: right;\">nan        </td><td style=\"text-align: right;\">nan        </td><td style=\"text-align: right;\">nan       </td><td style=\"text-align: right;\">nan       </td><td style=\"text-align: right;\">nan        </td><td style=\"text-align: right;\">nan        </td><td style=\"text-align: right;\">nan        </td><td style=\"text-align: right;\">nan         </td><td style=\"text-align: right;\">nan        </td><td style=\"text-align: right;\">nan        </td><td style=\"text-align: right;\">nan         </td><td style=\"text-align: right;\">nan        </td><td style=\"text-align: right;\">nan         </td><td style=\"text-align: right;\">nan        </td><td style=\"text-align: right;\">nan        </td><td style=\"text-align: right;\">nan        </td><td style=\"text-align: right;\">nan        </td><td style=\"text-align: right;\">nan        </td><td style=\"text-align: right;\">nan        </td><td style=\"text-align: right;\">nan        </td><td style=\"text-align: right;\">nan       </td><td style=\"text-align: right;\">nan        </td><td style=\"text-align: right;\">nan       </td><td style=\"text-align: right;\">nan        </td><td style=\"text-align: right;\">nan        </td><td style=\"text-align: right;\">nan        </td><td style=\"text-align: right;\">nan         </td><td style=\"text-align: right;\">nan       </td><td style=\"text-align: right;\">nan       </td><td style=\"text-align: right;\">nan        </td><td style=\"text-align: right;\">nan        </td><td style=\"text-align: right;\">nan        </td><td style=\"text-align: right;\">nan       </td><td style=\"text-align: right;\">nan        </td><td style=\"text-align: right;\">nan        </td><td style=\"text-align: right;\">nan        </td><td style=\"text-align: right;\">nan        </td><td style=\"text-align: right;\">nan        </td><td style=\"text-align: right;\">nan       </td><td style=\"text-align: right;\">nan        </td><td style=\"text-align: right;\">nan        </td><td style=\"text-align: right;\">nan       </td><td style=\"text-align: right;\">nan       </td><td style=\"text-align: right;\">nan       </td><td style=\"text-align: right;\">nan        </td><td style=\"text-align: right;\">nan         </td><td style=\"text-align: right;\">nan        </td><td style=\"text-align: right;\">nan        </td><td style=\"text-align: right;\">nan        </td><td style=\"text-align: right;\">nan        </td><td style=\"text-align: right;\">nan        </td><td style=\"text-align: right;\">nan        </td><td style=\"text-align: right;\">nan         </td><td style=\"text-align: right;\">nan       </td><td style=\"text-align: right;\">nan        </td><td style=\"text-align: right;\">nan        </td><td style=\"text-align: right;\">nan        </td><td style=\"text-align: right;\">nan        </td><td style=\"text-align: right;\">nan        </td><td style=\"text-align: right;\">nan          </td><td style=\"text-align: right;\">nan       </td><td style=\"text-align: right;\">nan        </td><td style=\"text-align: right;\">nan        </td><td style=\"text-align: right;\">nan       </td><td style=\"text-align: right;\">nan        </td><td style=\"text-align: right;\">nan       </td><td style=\"text-align: right;\">nan          </td><td style=\"text-align: right;\">nan        </td><td style=\"text-align: right;\">nan       </td><td style=\"text-align: right;\">nan        </td><td style=\"text-align: right;\">nan        </td><td style=\"text-align: right;\">nan        </td><td style=\"text-align: right;\">nan        </td><td style=\"text-align: right;\">nan        </td><td style=\"text-align: right;\">nan        </td><td style=\"text-align: right;\">nan        </td><td style=\"text-align: right;\">nan       </td><td style=\"text-align: right;\">nan        </td><td style=\"text-align: right;\">nan        </td><td style=\"text-align: right;\">nan       </td><td style=\"text-align: right;\">nan        </td><td style=\"text-align: right;\">nan        </td><td style=\"text-align: right;\">nan        </td><td style=\"text-align: right;\">nan        </td><td style=\"text-align: right;\">nan        </td><td style=\"text-align: right;\">nan        </td><td style=\"text-align: right;\">nan        </td><td style=\"text-align: right;\">nan        </td><td style=\"text-align: right;\">nan        </td><td style=\"text-align: right;\">nan        </td><td style=\"text-align: right;\">nan        </td></tr>\n",
       "<tr><td style=\"text-align: right;\">nan       </td><td style=\"text-align: right;\">nan        </td><td style=\"text-align: right;\">nan        </td><td style=\"text-align: right;\">nan        </td><td style=\"text-align: right;\">nan       </td><td style=\"text-align: right;\">nan       </td><td style=\"text-align: right;\">nan         </td><td style=\"text-align: right;\">nan       </td><td style=\"text-align: right;\">nan       </td><td style=\"text-align: right;\">nan        </td><td style=\"text-align: right;\">nan        </td><td style=\"text-align: right;\">nan       </td><td style=\"text-align: right;\">nan       </td><td style=\"text-align: right;\">nan        </td><td style=\"text-align: right;\">nan        </td><td style=\"text-align: right;\">nan        </td><td style=\"text-align: right;\">nan         </td><td style=\"text-align: right;\">nan        </td><td style=\"text-align: right;\">nan        </td><td style=\"text-align: right;\">nan         </td><td style=\"text-align: right;\">nan        </td><td style=\"text-align: right;\">nan         </td><td style=\"text-align: right;\">nan        </td><td style=\"text-align: right;\">nan        </td><td style=\"text-align: right;\">nan        </td><td style=\"text-align: right;\">nan        </td><td style=\"text-align: right;\">nan        </td><td style=\"text-align: right;\">nan        </td><td style=\"text-align: right;\">nan        </td><td style=\"text-align: right;\">nan       </td><td style=\"text-align: right;\">nan        </td><td style=\"text-align: right;\">nan       </td><td style=\"text-align: right;\">nan        </td><td style=\"text-align: right;\">nan        </td><td style=\"text-align: right;\">nan        </td><td style=\"text-align: right;\">nan         </td><td style=\"text-align: right;\">nan       </td><td style=\"text-align: right;\">nan       </td><td style=\"text-align: right;\">nan        </td><td style=\"text-align: right;\">nan        </td><td style=\"text-align: right;\">nan        </td><td style=\"text-align: right;\">nan       </td><td style=\"text-align: right;\">nan        </td><td style=\"text-align: right;\">nan        </td><td style=\"text-align: right;\">nan        </td><td style=\"text-align: right;\">nan        </td><td style=\"text-align: right;\">nan        </td><td style=\"text-align: right;\">nan       </td><td style=\"text-align: right;\">nan        </td><td style=\"text-align: right;\">nan        </td><td style=\"text-align: right;\">nan       </td><td style=\"text-align: right;\">nan       </td><td style=\"text-align: right;\">nan       </td><td style=\"text-align: right;\">nan        </td><td style=\"text-align: right;\">nan         </td><td style=\"text-align: right;\">nan        </td><td style=\"text-align: right;\">nan        </td><td style=\"text-align: right;\">nan        </td><td style=\"text-align: right;\">nan        </td><td style=\"text-align: right;\">nan        </td><td style=\"text-align: right;\">nan        </td><td style=\"text-align: right;\">nan         </td><td style=\"text-align: right;\">nan       </td><td style=\"text-align: right;\">nan        </td><td style=\"text-align: right;\">nan        </td><td style=\"text-align: right;\">nan        </td><td style=\"text-align: right;\">nan        </td><td style=\"text-align: right;\">nan        </td><td style=\"text-align: right;\">nan          </td><td style=\"text-align: right;\">nan       </td><td style=\"text-align: right;\">nan        </td><td style=\"text-align: right;\">nan        </td><td style=\"text-align: right;\">nan       </td><td style=\"text-align: right;\">nan        </td><td style=\"text-align: right;\">nan       </td><td style=\"text-align: right;\">nan          </td><td style=\"text-align: right;\">nan        </td><td style=\"text-align: right;\">nan       </td><td style=\"text-align: right;\">nan        </td><td style=\"text-align: right;\">nan        </td><td style=\"text-align: right;\">nan        </td><td style=\"text-align: right;\">nan        </td><td style=\"text-align: right;\">nan        </td><td style=\"text-align: right;\">nan        </td><td style=\"text-align: right;\">nan        </td><td style=\"text-align: right;\">nan       </td><td style=\"text-align: right;\">nan        </td><td style=\"text-align: right;\">nan        </td><td style=\"text-align: right;\">nan       </td><td style=\"text-align: right;\">nan        </td><td style=\"text-align: right;\">nan        </td><td style=\"text-align: right;\">nan        </td><td style=\"text-align: right;\">nan        </td><td style=\"text-align: right;\">nan        </td><td style=\"text-align: right;\">nan        </td><td style=\"text-align: right;\">nan        </td><td style=\"text-align: right;\">nan        </td><td style=\"text-align: right;\">nan        </td><td style=\"text-align: right;\">nan        </td><td style=\"text-align: right;\">nan        </td></tr>\n",
       "<tr><td style=\"text-align: right;\"> -0.141272</td><td style=\"text-align: right;\">  0.0210371</td><td style=\"text-align: right;\"> -0.150056 </td><td style=\"text-align: right;\"> -0.161734 </td><td style=\"text-align: right;\">  0.226709</td><td style=\"text-align: right;\">  0.133739</td><td style=\"text-align: right;\">  0.04881   </td><td style=\"text-align: right;\">  0.245209</td><td style=\"text-align: right;\"> -0.321804</td><td style=\"text-align: right;\">  0.278549 </td><td style=\"text-align: right;\"> -0.12475  </td><td style=\"text-align: right;\">  0.121165</td><td style=\"text-align: right;\"> -0.315182</td><td style=\"text-align: right;\"> -0.0419019</td><td style=\"text-align: right;\"> -0.0548095</td><td style=\"text-align: right;\">  0.15064  </td><td style=\"text-align: right;\"> -0.209577  </td><td style=\"text-align: right;\"> -0.0322639</td><td style=\"text-align: right;\"> -0.0480403</td><td style=\"text-align: right;\">  0.112338  </td><td style=\"text-align: right;\"> -0.300634 </td><td style=\"text-align: right;\">  0.0287526 </td><td style=\"text-align: right;\"> -0.1759   </td><td style=\"text-align: right;\">  0.0301511</td><td style=\"text-align: right;\"> -0.252091 </td><td style=\"text-align: right;\"> -0.0520743</td><td style=\"text-align: right;\">  0.205384 </td><td style=\"text-align: right;\">  0.0741519</td><td style=\"text-align: right;\"> -0.241981 </td><td style=\"text-align: right;\">  0.165226</td><td style=\"text-align: right;\">  0.0299898</td><td style=\"text-align: right;\">  0.084553</td><td style=\"text-align: right;\"> -0.150568 </td><td style=\"text-align: right;\"> -0.382158 </td><td style=\"text-align: right;\"> -0.0681222</td><td style=\"text-align: right;\">  0.166749  </td><td style=\"text-align: right;\"> -0.142141</td><td style=\"text-align: right;\"> -0.181063</td><td style=\"text-align: right;\">  0.251345 </td><td style=\"text-align: right;\">  0.0368071</td><td style=\"text-align: right;\"> -0.109512 </td><td style=\"text-align: right;\"> -0.171217</td><td style=\"text-align: right;\">  0.221356 </td><td style=\"text-align: right;\"> -0.0199538</td><td style=\"text-align: right;\"> -0.16568  </td><td style=\"text-align: right;\">  0.222681 </td><td style=\"text-align: right;\"> -0.267069 </td><td style=\"text-align: right;\">  0.374294</td><td style=\"text-align: right;\">  0.243968 </td><td style=\"text-align: right;\">  0.12201  </td><td style=\"text-align: right;\"> -0.350507</td><td style=\"text-align: right;\">  0.232151</td><td style=\"text-align: right;\">  0.467265</td><td style=\"text-align: right;\">  0.114159 </td><td style=\"text-align: right;\"> -0.036064  </td><td style=\"text-align: right;\"> -0.0777867</td><td style=\"text-align: right;\"> -0.0739533</td><td style=\"text-align: right;\"> -0.0298974</td><td style=\"text-align: right;\">  0.275089 </td><td style=\"text-align: right;\">  0.41218  </td><td style=\"text-align: right;\"> -0.217924 </td><td style=\"text-align: right;\"> -0.146125  </td><td style=\"text-align: right;\">  0.170981</td><td style=\"text-align: right;\"> -0.0266488</td><td style=\"text-align: right;\">  0.0455067</td><td style=\"text-align: right;\">  0.127442 </td><td style=\"text-align: right;\">  0.0698578</td><td style=\"text-align: right;\"> -0.0654624</td><td style=\"text-align: right;\"> -8.48727e-05</td><td style=\"text-align: right;\">  0.18605 </td><td style=\"text-align: right;\"> -0.0418112</td><td style=\"text-align: right;\"> -0.165813 </td><td style=\"text-align: right;\"> -0.181578</td><td style=\"text-align: right;\"> -0.0524305</td><td style=\"text-align: right;\">  0.126765</td><td style=\"text-align: right;\">  0.000186053</td><td style=\"text-align: right;\">  0.101987 </td><td style=\"text-align: right;\">  0.011538</td><td style=\"text-align: right;\">  0.110111 </td><td style=\"text-align: right;\">  0.0645214</td><td style=\"text-align: right;\">  0.0500511</td><td style=\"text-align: right;\">  0.314926 </td><td style=\"text-align: right;\"> -0.600724 </td><td style=\"text-align: right;\"> -0.0214577</td><td style=\"text-align: right;\">  0.0214799</td><td style=\"text-align: right;\"> -0.106994</td><td style=\"text-align: right;\"> -0.0310496</td><td style=\"text-align: right;\">  0.275871 </td><td style=\"text-align: right;\">  0.161633</td><td style=\"text-align: right;\"> -0.0450546</td><td style=\"text-align: right;\">  0.0747054</td><td style=\"text-align: right;\"> -0.227428 </td><td style=\"text-align: right;\"> -0.0319143</td><td style=\"text-align: right;\"> -0.0323625</td><td style=\"text-align: right;\">  0.110809 </td><td style=\"text-align: right;\"> -0.395503 </td><td style=\"text-align: right;\"> -0.025054 </td><td style=\"text-align: right;\">  0.0744167</td><td style=\"text-align: right;\">  0.312533 </td><td style=\"text-align: right;\"> -0.0559482</td></tr>\n",
       "<tr><td style=\"text-align: right;\">nan       </td><td style=\"text-align: right;\">nan        </td><td style=\"text-align: right;\">nan        </td><td style=\"text-align: right;\">nan        </td><td style=\"text-align: right;\">nan       </td><td style=\"text-align: right;\">nan       </td><td style=\"text-align: right;\">nan         </td><td style=\"text-align: right;\">nan       </td><td style=\"text-align: right;\">nan       </td><td style=\"text-align: right;\">nan        </td><td style=\"text-align: right;\">nan        </td><td style=\"text-align: right;\">nan       </td><td style=\"text-align: right;\">nan       </td><td style=\"text-align: right;\">nan        </td><td style=\"text-align: right;\">nan        </td><td style=\"text-align: right;\">nan        </td><td style=\"text-align: right;\">nan         </td><td style=\"text-align: right;\">nan        </td><td style=\"text-align: right;\">nan        </td><td style=\"text-align: right;\">nan         </td><td style=\"text-align: right;\">nan        </td><td style=\"text-align: right;\">nan         </td><td style=\"text-align: right;\">nan        </td><td style=\"text-align: right;\">nan        </td><td style=\"text-align: right;\">nan        </td><td style=\"text-align: right;\">nan        </td><td style=\"text-align: right;\">nan        </td><td style=\"text-align: right;\">nan        </td><td style=\"text-align: right;\">nan        </td><td style=\"text-align: right;\">nan       </td><td style=\"text-align: right;\">nan        </td><td style=\"text-align: right;\">nan       </td><td style=\"text-align: right;\">nan        </td><td style=\"text-align: right;\">nan        </td><td style=\"text-align: right;\">nan        </td><td style=\"text-align: right;\">nan         </td><td style=\"text-align: right;\">nan       </td><td style=\"text-align: right;\">nan       </td><td style=\"text-align: right;\">nan        </td><td style=\"text-align: right;\">nan        </td><td style=\"text-align: right;\">nan        </td><td style=\"text-align: right;\">nan       </td><td style=\"text-align: right;\">nan        </td><td style=\"text-align: right;\">nan        </td><td style=\"text-align: right;\">nan        </td><td style=\"text-align: right;\">nan        </td><td style=\"text-align: right;\">nan        </td><td style=\"text-align: right;\">nan       </td><td style=\"text-align: right;\">nan        </td><td style=\"text-align: right;\">nan        </td><td style=\"text-align: right;\">nan       </td><td style=\"text-align: right;\">nan       </td><td style=\"text-align: right;\">nan       </td><td style=\"text-align: right;\">nan        </td><td style=\"text-align: right;\">nan         </td><td style=\"text-align: right;\">nan        </td><td style=\"text-align: right;\">nan        </td><td style=\"text-align: right;\">nan        </td><td style=\"text-align: right;\">nan        </td><td style=\"text-align: right;\">nan        </td><td style=\"text-align: right;\">nan        </td><td style=\"text-align: right;\">nan         </td><td style=\"text-align: right;\">nan       </td><td style=\"text-align: right;\">nan        </td><td style=\"text-align: right;\">nan        </td><td style=\"text-align: right;\">nan        </td><td style=\"text-align: right;\">nan        </td><td style=\"text-align: right;\">nan        </td><td style=\"text-align: right;\">nan          </td><td style=\"text-align: right;\">nan       </td><td style=\"text-align: right;\">nan        </td><td style=\"text-align: right;\">nan        </td><td style=\"text-align: right;\">nan       </td><td style=\"text-align: right;\">nan        </td><td style=\"text-align: right;\">nan       </td><td style=\"text-align: right;\">nan          </td><td style=\"text-align: right;\">nan        </td><td style=\"text-align: right;\">nan       </td><td style=\"text-align: right;\">nan        </td><td style=\"text-align: right;\">nan        </td><td style=\"text-align: right;\">nan        </td><td style=\"text-align: right;\">nan        </td><td style=\"text-align: right;\">nan        </td><td style=\"text-align: right;\">nan        </td><td style=\"text-align: right;\">nan        </td><td style=\"text-align: right;\">nan       </td><td style=\"text-align: right;\">nan        </td><td style=\"text-align: right;\">nan        </td><td style=\"text-align: right;\">nan       </td><td style=\"text-align: right;\">nan        </td><td style=\"text-align: right;\">nan        </td><td style=\"text-align: right;\">nan        </td><td style=\"text-align: right;\">nan        </td><td style=\"text-align: right;\">nan        </td><td style=\"text-align: right;\">nan        </td><td style=\"text-align: right;\">nan        </td><td style=\"text-align: right;\">nan        </td><td style=\"text-align: right;\">nan        </td><td style=\"text-align: right;\">nan        </td><td style=\"text-align: right;\">nan        </td></tr>\n",
       "<tr><td style=\"text-align: right;\">nan       </td><td style=\"text-align: right;\">nan        </td><td style=\"text-align: right;\">nan        </td><td style=\"text-align: right;\">nan        </td><td style=\"text-align: right;\">nan       </td><td style=\"text-align: right;\">nan       </td><td style=\"text-align: right;\">nan         </td><td style=\"text-align: right;\">nan       </td><td style=\"text-align: right;\">nan       </td><td style=\"text-align: right;\">nan        </td><td style=\"text-align: right;\">nan        </td><td style=\"text-align: right;\">nan       </td><td style=\"text-align: right;\">nan       </td><td style=\"text-align: right;\">nan        </td><td style=\"text-align: right;\">nan        </td><td style=\"text-align: right;\">nan        </td><td style=\"text-align: right;\">nan         </td><td style=\"text-align: right;\">nan        </td><td style=\"text-align: right;\">nan        </td><td style=\"text-align: right;\">nan         </td><td style=\"text-align: right;\">nan        </td><td style=\"text-align: right;\">nan         </td><td style=\"text-align: right;\">nan        </td><td style=\"text-align: right;\">nan        </td><td style=\"text-align: right;\">nan        </td><td style=\"text-align: right;\">nan        </td><td style=\"text-align: right;\">nan        </td><td style=\"text-align: right;\">nan        </td><td style=\"text-align: right;\">nan        </td><td style=\"text-align: right;\">nan       </td><td style=\"text-align: right;\">nan        </td><td style=\"text-align: right;\">nan       </td><td style=\"text-align: right;\">nan        </td><td style=\"text-align: right;\">nan        </td><td style=\"text-align: right;\">nan        </td><td style=\"text-align: right;\">nan         </td><td style=\"text-align: right;\">nan       </td><td style=\"text-align: right;\">nan       </td><td style=\"text-align: right;\">nan        </td><td style=\"text-align: right;\">nan        </td><td style=\"text-align: right;\">nan        </td><td style=\"text-align: right;\">nan       </td><td style=\"text-align: right;\">nan        </td><td style=\"text-align: right;\">nan        </td><td style=\"text-align: right;\">nan        </td><td style=\"text-align: right;\">nan        </td><td style=\"text-align: right;\">nan        </td><td style=\"text-align: right;\">nan       </td><td style=\"text-align: right;\">nan        </td><td style=\"text-align: right;\">nan        </td><td style=\"text-align: right;\">nan       </td><td style=\"text-align: right;\">nan       </td><td style=\"text-align: right;\">nan       </td><td style=\"text-align: right;\">nan        </td><td style=\"text-align: right;\">nan         </td><td style=\"text-align: right;\">nan        </td><td style=\"text-align: right;\">nan        </td><td style=\"text-align: right;\">nan        </td><td style=\"text-align: right;\">nan        </td><td style=\"text-align: right;\">nan        </td><td style=\"text-align: right;\">nan        </td><td style=\"text-align: right;\">nan         </td><td style=\"text-align: right;\">nan       </td><td style=\"text-align: right;\">nan        </td><td style=\"text-align: right;\">nan        </td><td style=\"text-align: right;\">nan        </td><td style=\"text-align: right;\">nan        </td><td style=\"text-align: right;\">nan        </td><td style=\"text-align: right;\">nan          </td><td style=\"text-align: right;\">nan       </td><td style=\"text-align: right;\">nan        </td><td style=\"text-align: right;\">nan        </td><td style=\"text-align: right;\">nan       </td><td style=\"text-align: right;\">nan        </td><td style=\"text-align: right;\">nan       </td><td style=\"text-align: right;\">nan          </td><td style=\"text-align: right;\">nan        </td><td style=\"text-align: right;\">nan       </td><td style=\"text-align: right;\">nan        </td><td style=\"text-align: right;\">nan        </td><td style=\"text-align: right;\">nan        </td><td style=\"text-align: right;\">nan        </td><td style=\"text-align: right;\">nan        </td><td style=\"text-align: right;\">nan        </td><td style=\"text-align: right;\">nan        </td><td style=\"text-align: right;\">nan       </td><td style=\"text-align: right;\">nan        </td><td style=\"text-align: right;\">nan        </td><td style=\"text-align: right;\">nan       </td><td style=\"text-align: right;\">nan        </td><td style=\"text-align: right;\">nan        </td><td style=\"text-align: right;\">nan        </td><td style=\"text-align: right;\">nan        </td><td style=\"text-align: right;\">nan        </td><td style=\"text-align: right;\">nan        </td><td style=\"text-align: right;\">nan        </td><td style=\"text-align: right;\">nan        </td><td style=\"text-align: right;\">nan        </td><td style=\"text-align: right;\">nan        </td><td style=\"text-align: right;\">nan        </td></tr>\n",
       "<tr><td style=\"text-align: right;\">nan       </td><td style=\"text-align: right;\">nan        </td><td style=\"text-align: right;\">nan        </td><td style=\"text-align: right;\">nan        </td><td style=\"text-align: right;\">nan       </td><td style=\"text-align: right;\">nan       </td><td style=\"text-align: right;\">nan         </td><td style=\"text-align: right;\">nan       </td><td style=\"text-align: right;\">nan       </td><td style=\"text-align: right;\">nan        </td><td style=\"text-align: right;\">nan        </td><td style=\"text-align: right;\">nan       </td><td style=\"text-align: right;\">nan       </td><td style=\"text-align: right;\">nan        </td><td style=\"text-align: right;\">nan        </td><td style=\"text-align: right;\">nan        </td><td style=\"text-align: right;\">nan         </td><td style=\"text-align: right;\">nan        </td><td style=\"text-align: right;\">nan        </td><td style=\"text-align: right;\">nan         </td><td style=\"text-align: right;\">nan        </td><td style=\"text-align: right;\">nan         </td><td style=\"text-align: right;\">nan        </td><td style=\"text-align: right;\">nan        </td><td style=\"text-align: right;\">nan        </td><td style=\"text-align: right;\">nan        </td><td style=\"text-align: right;\">nan        </td><td style=\"text-align: right;\">nan        </td><td style=\"text-align: right;\">nan        </td><td style=\"text-align: right;\">nan       </td><td style=\"text-align: right;\">nan        </td><td style=\"text-align: right;\">nan       </td><td style=\"text-align: right;\">nan        </td><td style=\"text-align: right;\">nan        </td><td style=\"text-align: right;\">nan        </td><td style=\"text-align: right;\">nan         </td><td style=\"text-align: right;\">nan       </td><td style=\"text-align: right;\">nan       </td><td style=\"text-align: right;\">nan        </td><td style=\"text-align: right;\">nan        </td><td style=\"text-align: right;\">nan        </td><td style=\"text-align: right;\">nan       </td><td style=\"text-align: right;\">nan        </td><td style=\"text-align: right;\">nan        </td><td style=\"text-align: right;\">nan        </td><td style=\"text-align: right;\">nan        </td><td style=\"text-align: right;\">nan        </td><td style=\"text-align: right;\">nan       </td><td style=\"text-align: right;\">nan        </td><td style=\"text-align: right;\">nan        </td><td style=\"text-align: right;\">nan       </td><td style=\"text-align: right;\">nan       </td><td style=\"text-align: right;\">nan       </td><td style=\"text-align: right;\">nan        </td><td style=\"text-align: right;\">nan         </td><td style=\"text-align: right;\">nan        </td><td style=\"text-align: right;\">nan        </td><td style=\"text-align: right;\">nan        </td><td style=\"text-align: right;\">nan        </td><td style=\"text-align: right;\">nan        </td><td style=\"text-align: right;\">nan        </td><td style=\"text-align: right;\">nan         </td><td style=\"text-align: right;\">nan       </td><td style=\"text-align: right;\">nan        </td><td style=\"text-align: right;\">nan        </td><td style=\"text-align: right;\">nan        </td><td style=\"text-align: right;\">nan        </td><td style=\"text-align: right;\">nan        </td><td style=\"text-align: right;\">nan          </td><td style=\"text-align: right;\">nan       </td><td style=\"text-align: right;\">nan        </td><td style=\"text-align: right;\">nan        </td><td style=\"text-align: right;\">nan       </td><td style=\"text-align: right;\">nan        </td><td style=\"text-align: right;\">nan       </td><td style=\"text-align: right;\">nan          </td><td style=\"text-align: right;\">nan        </td><td style=\"text-align: right;\">nan       </td><td style=\"text-align: right;\">nan        </td><td style=\"text-align: right;\">nan        </td><td style=\"text-align: right;\">nan        </td><td style=\"text-align: right;\">nan        </td><td style=\"text-align: right;\">nan        </td><td style=\"text-align: right;\">nan        </td><td style=\"text-align: right;\">nan        </td><td style=\"text-align: right;\">nan       </td><td style=\"text-align: right;\">nan        </td><td style=\"text-align: right;\">nan        </td><td style=\"text-align: right;\">nan       </td><td style=\"text-align: right;\">nan        </td><td style=\"text-align: right;\">nan        </td><td style=\"text-align: right;\">nan        </td><td style=\"text-align: right;\">nan        </td><td style=\"text-align: right;\">nan        </td><td style=\"text-align: right;\">nan        </td><td style=\"text-align: right;\">nan        </td><td style=\"text-align: right;\">nan        </td><td style=\"text-align: right;\">nan        </td><td style=\"text-align: right;\">nan        </td><td style=\"text-align: right;\">nan        </td></tr>\n",
       "<tr><td style=\"text-align: right;\">  0.357215</td><td style=\"text-align: right;\"> -0.472243 </td><td style=\"text-align: right;\"> -0.340513 </td><td style=\"text-align: right;\"> -0.129482 </td><td style=\"text-align: right;\">  0.146913</td><td style=\"text-align: right;\"> -0.179203</td><td style=\"text-align: right;\">  0.0641688 </td><td style=\"text-align: right;\"> -0.272363</td><td style=\"text-align: right;\">  0.169561</td><td style=\"text-align: right;\">  0.326539 </td><td style=\"text-align: right;\"> -0.222898 </td><td style=\"text-align: right;\">  0.140319</td><td style=\"text-align: right;\"> -0.198716</td><td style=\"text-align: right;\">  0.334065 </td><td style=\"text-align: right;\">  0.0810766</td><td style=\"text-align: right;\">  0.29859  </td><td style=\"text-align: right;\">  0.334071  </td><td style=\"text-align: right;\">  0.205581 </td><td style=\"text-align: right;\">  0.450729 </td><td style=\"text-align: right;\">  0.00784545</td><td style=\"text-align: right;\"> -0.0205487</td><td style=\"text-align: right;\"> -0.271439  </td><td style=\"text-align: right;\">  0.452036 </td><td style=\"text-align: right;\"> -0.020945 </td><td style=\"text-align: right;\"> -0.120662 </td><td style=\"text-align: right;\">  0.091283 </td><td style=\"text-align: right;\"> -0.0866878</td><td style=\"text-align: right;\"> -0.0266227</td><td style=\"text-align: right;\">  0.845272 </td><td style=\"text-align: right;\"> -0.672241</td><td style=\"text-align: right;\">  0.0393981</td><td style=\"text-align: right;\">  0.481718</td><td style=\"text-align: right;\">  0.382466 </td><td style=\"text-align: right;\"> -0.328006 </td><td style=\"text-align: right;\">  0.150813 </td><td style=\"text-align: right;\">  0.495868  </td><td style=\"text-align: right;\"> -1.02001 </td><td style=\"text-align: right;\">  0.150119</td><td style=\"text-align: right;\">  0.35788  </td><td style=\"text-align: right;\">  0.132172 </td><td style=\"text-align: right;\">  0.0685255</td><td style=\"text-align: right;\">  0.529289</td><td style=\"text-align: right;\">  0.156713 </td><td style=\"text-align: right;\"> -0.0435258</td><td style=\"text-align: right;\">  0.511641 </td><td style=\"text-align: right;\">  0.233063 </td><td style=\"text-align: right;\"> -0.303172 </td><td style=\"text-align: right;\"> -0.308258</td><td style=\"text-align: right;\">  0.316679 </td><td style=\"text-align: right;\">  0.212108 </td><td style=\"text-align: right;\">  0.129628</td><td style=\"text-align: right;\">  0.161382</td><td style=\"text-align: right;\"> -0.25063 </td><td style=\"text-align: right;\"> -0.125205 </td><td style=\"text-align: right;\"> -0.00283601</td><td style=\"text-align: right;\"> -0.0871667</td><td style=\"text-align: right;\"> -0.14206  </td><td style=\"text-align: right;\"> -0.296625 </td><td style=\"text-align: right;\">  0.0507994</td><td style=\"text-align: right;\">  0.0281734</td><td style=\"text-align: right;\"> -0.080836 </td><td style=\"text-align: right;\"> -0.243941  </td><td style=\"text-align: right;\">  0.41796 </td><td style=\"text-align: right;\">  0.0089972</td><td style=\"text-align: right;\">  0.0692586</td><td style=\"text-align: right;\"> -0.097024 </td><td style=\"text-align: right;\">  0.108733 </td><td style=\"text-align: right;\">  0.0471335</td><td style=\"text-align: right;\">  0.108911   </td><td style=\"text-align: right;\">  0.387021</td><td style=\"text-align: right;\"> -0.188509 </td><td style=\"text-align: right;\">  0.0486801</td><td style=\"text-align: right;\"> -0.173601</td><td style=\"text-align: right;\"> -0.627231 </td><td style=\"text-align: right;\"> -0.81792 </td><td style=\"text-align: right;\"> -0.45566    </td><td style=\"text-align: right;\"> -0.0373118</td><td style=\"text-align: right;\"> -0.127392</td><td style=\"text-align: right;\">  0.0871122</td><td style=\"text-align: right;\"> -0.095717 </td><td style=\"text-align: right;\"> -0.499465 </td><td style=\"text-align: right;\">  0.449682 </td><td style=\"text-align: right;\">  0.37817  </td><td style=\"text-align: right;\">  0.286779 </td><td style=\"text-align: right;\"> -0.234059 </td><td style=\"text-align: right;\">  0.074047</td><td style=\"text-align: right;\"> -0.204161 </td><td style=\"text-align: right;\"> -0.421028 </td><td style=\"text-align: right;\">  0.342169</td><td style=\"text-align: right;\">  0.226095 </td><td style=\"text-align: right;\"> -0.188944 </td><td style=\"text-align: right;\">  0.0647762</td><td style=\"text-align: right;\">  0.329321 </td><td style=\"text-align: right;\">  0.336463 </td><td style=\"text-align: right;\"> -0.0913026</td><td style=\"text-align: right;\"> -0.0020016</td><td style=\"text-align: right;\">  0.469813 </td><td style=\"text-align: right;\">  0.239101 </td><td style=\"text-align: right;\"> -0.118411 </td><td style=\"text-align: right;\"> -0.0779862</td></tr>\n",
       "<tr><td style=\"text-align: right;\">  0.287852</td><td style=\"text-align: right;\"> -0.17079  </td><td style=\"text-align: right;\"> -0.0132519</td><td style=\"text-align: right;\">  0.0548928</td><td style=\"text-align: right;\"> -0.27258 </td><td style=\"text-align: right;\"> -0.323969</td><td style=\"text-align: right;\">  0.00873538</td><td style=\"text-align: right;\"> -0.252309</td><td style=\"text-align: right;\"> -0.357305</td><td style=\"text-align: right;\">  0.0491187</td><td style=\"text-align: right;\"> -0.111864 </td><td style=\"text-align: right;\">  0.147437</td><td style=\"text-align: right;\">  0.203715</td><td style=\"text-align: right;\">  0.224    </td><td style=\"text-align: right;\">  0.186463 </td><td style=\"text-align: right;\">  0.103506 </td><td style=\"text-align: right;\">  0.118241  </td><td style=\"text-align: right;\">  0.0968181</td><td style=\"text-align: right;\"> -0.344527 </td><td style=\"text-align: right;\">  0.589832  </td><td style=\"text-align: right;\"> -0.0987371</td><td style=\"text-align: right;\">  0.00283584</td><td style=\"text-align: right;\">  0.0516009</td><td style=\"text-align: right;\">  0.303439 </td><td style=\"text-align: right;\"> -0.0808776</td><td style=\"text-align: right;\">  0.1105   </td><td style=\"text-align: right;\"> -0.33627  </td><td style=\"text-align: right;\"> -0.453039 </td><td style=\"text-align: right;\">  0.0286468</td><td style=\"text-align: right;\"> -0.230664</td><td style=\"text-align: right;\">  0.102795 </td><td style=\"text-align: right;\">  0.166593</td><td style=\"text-align: right;\">  0.0991374</td><td style=\"text-align: right;\"> -0.0784199</td><td style=\"text-align: right;\">  0.035905 </td><td style=\"text-align: right;\">  0.0933219 </td><td style=\"text-align: right;\"> -0.59421 </td><td style=\"text-align: right;\"> -0.356344</td><td style=\"text-align: right;\">  0.0515058</td><td style=\"text-align: right;\"> -0.0194688</td><td style=\"text-align: right;\">  0.163525 </td><td style=\"text-align: right;\">  0.444983</td><td style=\"text-align: right;\">  0.217289 </td><td style=\"text-align: right;\">  0.0997923</td><td style=\"text-align: right;\">  0.0298984</td><td style=\"text-align: right;\"> -0.0491232</td><td style=\"text-align: right;\">  0.0206312</td><td style=\"text-align: right;\">  0.247839</td><td style=\"text-align: right;\"> -0.249075 </td><td style=\"text-align: right;\"> -0.301293 </td><td style=\"text-align: right;\"> -0.221511</td><td style=\"text-align: right;\">  0.250803</td><td style=\"text-align: right;\">  0.207592</td><td style=\"text-align: right;\">  0.152901 </td><td style=\"text-align: right;\">  0.0598311 </td><td style=\"text-align: right;\">  0.0785473</td><td style=\"text-align: right;\"> -0.0309091</td><td style=\"text-align: right;\"> -0.265299 </td><td style=\"text-align: right;\"> -0.241827 </td><td style=\"text-align: right;\"> -0.261617 </td><td style=\"text-align: right;\">  0.0853015</td><td style=\"text-align: right;\"> -0.0589936 </td><td style=\"text-align: right;\"> -0.118151</td><td style=\"text-align: right;\">  0.0451313</td><td style=\"text-align: right;\"> -0.113315 </td><td style=\"text-align: right;\"> -0.134257 </td><td style=\"text-align: right;\">  0.202369 </td><td style=\"text-align: right;\">  0.0196185</td><td style=\"text-align: right;\">  0.0731952  </td><td style=\"text-align: right;\">  0.106187</td><td style=\"text-align: right;\">  0.170631 </td><td style=\"text-align: right;\">  0.256187 </td><td style=\"text-align: right;\"> -0.336436</td><td style=\"text-align: right;\"> -0.315297 </td><td style=\"text-align: right;\"> -0.388849</td><td style=\"text-align: right;\"> -0.573182   </td><td style=\"text-align: right;\">  0.0480782</td><td style=\"text-align: right;\"> -0.291069</td><td style=\"text-align: right;\">  0.299124 </td><td style=\"text-align: right;\"> -0.0803594</td><td style=\"text-align: right;\">  0.132123 </td><td style=\"text-align: right;\">  0.0485385</td><td style=\"text-align: right;\">  0.0494226</td><td style=\"text-align: right;\">  0.423305 </td><td style=\"text-align: right;\">  0.19443  </td><td style=\"text-align: right;\"> -0.250533</td><td style=\"text-align: right;\">  0.142905 </td><td style=\"text-align: right;\"> -0.0491552</td><td style=\"text-align: right;\">  0.19807 </td><td style=\"text-align: right;\">  0.0427829</td><td style=\"text-align: right;\">  0.127309 </td><td style=\"text-align: right;\"> -0.013967 </td><td style=\"text-align: right;\">  0.298442 </td><td style=\"text-align: right;\"> -0.110813 </td><td style=\"text-align: right;\"> -0.0767585</td><td style=\"text-align: right;\">  0.374834 </td><td style=\"text-align: right;\">  0.0788593</td><td style=\"text-align: right;\"> -0.149792 </td><td style=\"text-align: right;\"> -0.264859 </td><td style=\"text-align: right;\">  0.356101 </td></tr>\n",
       "<tr><td style=\"text-align: right;\">  0.198287</td><td style=\"text-align: right;\"> -0.146247 </td><td style=\"text-align: right;\">  0.122309 </td><td style=\"text-align: right;\"> -0.333498 </td><td style=\"text-align: right;\"> -0.29996 </td><td style=\"text-align: right;\"> -0.285414</td><td style=\"text-align: right;\">  0.207591  </td><td style=\"text-align: right;\"> -0.257815</td><td style=\"text-align: right;\"> -0.418534</td><td style=\"text-align: right;\">  0.226216 </td><td style=\"text-align: right;\"> -0.0695944</td><td style=\"text-align: right;\"> -0.011541</td><td style=\"text-align: right;\"> -0.220237</td><td style=\"text-align: right;\">  0.265337 </td><td style=\"text-align: right;\">  0.361395 </td><td style=\"text-align: right;\">  0.0199249</td><td style=\"text-align: right;\">  0.00831464</td><td style=\"text-align: right;\">  0.122217 </td><td style=\"text-align: right;\"> -0.477344 </td><td style=\"text-align: right;\">  0.434927  </td><td style=\"text-align: right;\"> -0.121094 </td><td style=\"text-align: right;\">  0.0754732 </td><td style=\"text-align: right;\"> -0.0906514</td><td style=\"text-align: right;\">  0.423748 </td><td style=\"text-align: right;\"> -0.120056 </td><td style=\"text-align: right;\">  0.152449 </td><td style=\"text-align: right;\"> -0.375158 </td><td style=\"text-align: right;\"> -0.207359 </td><td style=\"text-align: right;\"> -0.0233007</td><td style=\"text-align: right;\"> -0.41646 </td><td style=\"text-align: right;\"> -0.0481264</td><td style=\"text-align: right;\">  0.451679</td><td style=\"text-align: right;\">  0.0396218</td><td style=\"text-align: right;\"> -0.223331 </td><td style=\"text-align: right;\">  0.132967 </td><td style=\"text-align: right;\">  0.00160404</td><td style=\"text-align: right;\"> -0.622295</td><td style=\"text-align: right;\"> -0.131277</td><td style=\"text-align: right;\"> -0.282371 </td><td style=\"text-align: right;\"> -0.146949 </td><td style=\"text-align: right;\">  0.184751 </td><td style=\"text-align: right;\">  0.206382</td><td style=\"text-align: right;\"> -0.0816754</td><td style=\"text-align: right;\">  0.0212167</td><td style=\"text-align: right;\"> -0.0778871</td><td style=\"text-align: right;\"> -0.15319  </td><td style=\"text-align: right;\">  0.0804252</td><td style=\"text-align: right;\">  0.254345</td><td style=\"text-align: right;\"> -0.0903972</td><td style=\"text-align: right;\"> -0.0732376</td><td style=\"text-align: right;\"> -0.231857</td><td style=\"text-align: right;\">  0.413652</td><td style=\"text-align: right;\">  0.214404</td><td style=\"text-align: right;\">  0.0289144</td><td style=\"text-align: right;\"> -0.120847  </td><td style=\"text-align: right;\">  0.0664184</td><td style=\"text-align: right;\"> -0.028292 </td><td style=\"text-align: right;\"> -0.155747 </td><td style=\"text-align: right;\"> -0.292451 </td><td style=\"text-align: right;\"> -0.0989126</td><td style=\"text-align: right;\">  0.230946 </td><td style=\"text-align: right;\">  0.00248142</td><td style=\"text-align: right;\">  0.214813</td><td style=\"text-align: right;\"> -0.248364 </td><td style=\"text-align: right;\">  0.154821 </td><td style=\"text-align: right;\">  0.0597372</td><td style=\"text-align: right;\">  0.0988733</td><td style=\"text-align: right;\"> -0.0859684</td><td style=\"text-align: right;\"> -0.227435   </td><td style=\"text-align: right;\">  0.173051</td><td style=\"text-align: right;\">  0.105325 </td><td style=\"text-align: right;\">  0.129412 </td><td style=\"text-align: right;\"> -0.227282</td><td style=\"text-align: right;\"> -0.662854 </td><td style=\"text-align: right;\"> -0.485269</td><td style=\"text-align: right;\"> -0.283233   </td><td style=\"text-align: right;\">  0.205876 </td><td style=\"text-align: right;\"> -0.3658  </td><td style=\"text-align: right;\">  0.399525 </td><td style=\"text-align: right;\"> -0.244817 </td><td style=\"text-align: right;\">  0.0294149</td><td style=\"text-align: right;\">  0.161836 </td><td style=\"text-align: right;\">  0.0584132</td><td style=\"text-align: right;\">  0.525312 </td><td style=\"text-align: right;\"> -0.347797 </td><td style=\"text-align: right;\"> -0.170736</td><td style=\"text-align: right;\">  0.145493 </td><td style=\"text-align: right;\"> -0.476248 </td><td style=\"text-align: right;\">  0.202787</td><td style=\"text-align: right;\"> -0.0229109</td><td style=\"text-align: right;\">  0.0588649</td><td style=\"text-align: right;\">  0.0457519</td><td style=\"text-align: right;\">  0.370822 </td><td style=\"text-align: right;\"> -0.0210066</td><td style=\"text-align: right;\"> -0.159234 </td><td style=\"text-align: right;\">  0.177189 </td><td style=\"text-align: right;\">  0.0845938</td><td style=\"text-align: right;\"> -0.117348 </td><td style=\"text-align: right;\"> -0.0687121</td><td style=\"text-align: right;\">  0.324434 </td></tr>\n",
       "</tbody>\n",
       "</table>"
      ]
     },
     "metadata": {},
     "output_type": "display_data"
    },
    {
     "data": {
      "text/plain": []
     },
     "execution_count": 61,
     "metadata": {},
     "output_type": "execute_result"
    }
   ],
   "source": [
    "word_vecs"
   ]
  },
  {
   "cell_type": "code",
   "execution_count": 64,
   "metadata": {},
   "outputs": [],
   "source": [
    "model_path = h2o.save_model(model = w2v_model, path= \"\" ,force=True)"
   ]
  },
  {
   "cell_type": "code",
   "execution_count": null,
   "metadata": {},
   "outputs": [],
   "source": []
  }
 ],
 "metadata": {
  "kernelspec": {
   "display_name": "Python 3",
   "language": "python",
   "name": "python3"
  },
  "language_info": {
   "codemirror_mode": {
    "name": "ipython",
    "version": 3
   },
   "file_extension": ".py",
   "mimetype": "text/x-python",
   "name": "python",
   "nbconvert_exporter": "python",
   "pygments_lexer": "ipython3",
   "version": "3.7.2"
  }
 },
 "nbformat": 4,
 "nbformat_minor": 4
}
